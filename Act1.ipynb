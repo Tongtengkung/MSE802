{
 "cells": [
  {
   "cell_type": "code",
   "execution_count": null,
   "id": "73772a15",
   "metadata": {},
   "outputs": [
    {
     "name": "stdout",
     "output_type": "stream",
     "text": [
      "Circuit:\n",
      "q0: ───X───\n",
      "\n",
      "q1: ───X───\n",
      "Final state vector for X: [0.+0.j 0.+0.j 0.+0.j 1.+0.j]\n",
      "Manually computed final state: [0 0 0 1]\n"
     ]
    }
   ],
   "source": [
    "import numpy as np\n",
    "import cirq\n",
    "\n",
    "# Create qubits\n",
    "q0 = cirq.NamedQubit('q0')\n",
    "q1 = cirq.NamedQubit('q1')\n",
    "\n",
    "# Initialize the circuit\n",
    "circuit = cirq.Circuit()\n",
    "\n",
    "# Apply X gate to both qubits\n",
    "circuit.append([cirq.X(q0), cirq.X(q1)])\n",
    "\n",
    "# Create a simulator\n",
    "simulator = cirq.Simulator()\n",
    "\n",
    "# Print the circuit\n",
    "print(\"Circuit:\")\n",
    "\n",
    "# Print the state vector\n",
    "print(circuit)\n",
    "\n",
    "# Initial state: |00>\n",
    "initial_state = np.array([1, 0, 0, 0])  # 2 qubits in |00>\n",
    "\n",
    "# Simulate the circuit\n",
    "result = simulator.simulate(circuit, initial_state=initial_state)\n",
    "\n",
    "# Get the final state vector\n",
    "final_state = result.final_state_vector\n",
    "\n",
    "print(\"Final state vector for X:\", final_state)\n",
    "\n",
    "circuit.append(cirq.X(q0))\n",
    "circuit.append(cirq.Y(q1))\n",
    "\n",
    "#########################################################################################\n",
    "\n",
    "# Apply X gate to q0 and Y gate to q1\n",
    "# Define basis states\n",
    "zero = np.array([1, 0])\n",
    "one = np.array([0, 1])\n",
    "\n",
    "# Initial state |00>\n",
    "initial_state = np.kron(zero, zero)\n",
    "\n",
    "# Apply X to both qubits: X|0> = |1>\n",
    "X = np.array([[0, 1],\n",
    "              [1, 0]])\n",
    "\n",
    "# After applying X to both qubits\n",
    "final_state_manual = np.kron(X @ zero, X @ zero)\n",
    "\n",
    "print(\"Manually computed final state:\", final_state_manual)\n"
   ]
  },
  {
   "cell_type": "code",
   "execution_count": null,
   "id": "b2ea7497",
   "metadata": {},
   "outputs": [],
   "source": []
  },
  {
   "cell_type": "code",
   "execution_count": null,
   "id": "13e5ac6d",
   "metadata": {},
   "outputs": [],
   "source": []
  }
 ],
 "metadata": {
  "kernelspec": {
   "display_name": "Python 3",
   "language": "python",
   "name": "python3"
  },
  "language_info": {
   "codemirror_mode": {
    "name": "ipython",
    "version": 3
   },
   "file_extension": ".py",
   "mimetype": "text/x-python",
   "name": "python",
   "nbconvert_exporter": "python",
   "pygments_lexer": "ipython3",
   "version": "3.13.0"
  }
 },
 "nbformat": 4,
 "nbformat_minor": 5
}
